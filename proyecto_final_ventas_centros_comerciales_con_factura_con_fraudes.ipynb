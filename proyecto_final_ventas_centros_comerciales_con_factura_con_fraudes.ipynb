{
 "cells": [
  {
   "cell_type": "markdown",
   "metadata": {},
   "source": [
    "# Assignment Final\n",
    "Los datos que se incluyen en el fichero `datos_ventas_centros_comerciales.csv` representan casi 100.000 compra-ventas realizadas en un grupo de Centros Comerciales durantes los años 2021 y 2022. \n",
    "\n",
    "Como analista del holding propietario de los centros comerciales realiza un analisis respondiendo a las siguiente preguntas."
   ]
  },
  {
   "cell_type": "code",
   "execution_count": 20,
   "metadata": {},
   "outputs": [
    {
     "data": {
      "text/html": [
       "<div>\n",
       "<style scoped>\n",
       "    .dataframe tbody tr th:only-of-type {\n",
       "        vertical-align: middle;\n",
       "    }\n",
       "\n",
       "    .dataframe tbody tr th {\n",
       "        vertical-align: top;\n",
       "    }\n",
       "\n",
       "    .dataframe thead th {\n",
       "        text-align: right;\n",
       "    }\n",
       "</style>\n",
       "<table border=\"1\" class=\"dataframe\">\n",
       "  <thead>\n",
       "    <tr style=\"text-align: right;\">\n",
       "      <th></th>\n",
       "      <th>invoice_no</th>\n",
       "      <th>customer_id</th>\n",
       "      <th>category</th>\n",
       "      <th>quantity</th>\n",
       "      <th>price</th>\n",
       "      <th>invoice_date</th>\n",
       "      <th>shopping_mall</th>\n",
       "    </tr>\n",
       "  </thead>\n",
       "  <tbody>\n",
       "    <tr>\n",
       "      <th>0</th>\n",
       "      <td>I138884</td>\n",
       "      <td>C241288</td>\n",
       "      <td>Clothing</td>\n",
       "      <td>5</td>\n",
       "      <td>8172.24</td>\n",
       "      <td>05-08-2022</td>\n",
       "      <td>Kanyon</td>\n",
       "    </tr>\n",
       "    <tr>\n",
       "      <th>1</th>\n",
       "      <td>I317333</td>\n",
       "      <td>C111565</td>\n",
       "      <td>Shoes</td>\n",
       "      <td>3</td>\n",
       "      <td>8868.64</td>\n",
       "      <td>12-12-2021</td>\n",
       "      <td>Forum Istanbul</td>\n",
       "    </tr>\n",
       "    <tr>\n",
       "      <th>2</th>\n",
       "      <td>I127801</td>\n",
       "      <td>C266599</td>\n",
       "      <td>Clothing</td>\n",
       "      <td>1</td>\n",
       "      <td>4863.95</td>\n",
       "      <td>09-11-2021</td>\n",
       "      <td>Metrocity</td>\n",
       "    </tr>\n",
       "    <tr>\n",
       "      <th>3</th>\n",
       "      <td>I173702</td>\n",
       "      <td>C988172</td>\n",
       "      <td>Shoes</td>\n",
       "      <td>5</td>\n",
       "      <td>711.48</td>\n",
       "      <td>16-05-2021</td>\n",
       "      <td>Metropol AVM</td>\n",
       "    </tr>\n",
       "    <tr>\n",
       "      <th>4</th>\n",
       "      <td>I337046</td>\n",
       "      <td>C189076</td>\n",
       "      <td>Books</td>\n",
       "      <td>4</td>\n",
       "      <td>1110.32</td>\n",
       "      <td>24-10-2021</td>\n",
       "      <td>Kanyon</td>\n",
       "    </tr>\n",
       "    <tr>\n",
       "      <th>...</th>\n",
       "      <td>...</td>\n",
       "      <td>...</td>\n",
       "      <td>...</td>\n",
       "      <td>...</td>\n",
       "      <td>...</td>\n",
       "      <td>...</td>\n",
       "      <td>...</td>\n",
       "    </tr>\n",
       "    <tr>\n",
       "      <th>99452</th>\n",
       "      <td>I219422</td>\n",
       "      <td>C441542</td>\n",
       "      <td>Souvenir</td>\n",
       "      <td>5</td>\n",
       "      <td>6692.42</td>\n",
       "      <td>21-09-2022</td>\n",
       "      <td>Kanyon</td>\n",
       "    </tr>\n",
       "    <tr>\n",
       "      <th>99453</th>\n",
       "      <td>I325143</td>\n",
       "      <td>C569580</td>\n",
       "      <td>Food &amp; Beverage</td>\n",
       "      <td>2</td>\n",
       "      <td>8397.24</td>\n",
       "      <td>22-09-2021</td>\n",
       "      <td>Forum Istanbul</td>\n",
       "    </tr>\n",
       "    <tr>\n",
       "      <th>99454</th>\n",
       "      <td>I824010</td>\n",
       "      <td>C103292</td>\n",
       "      <td>Food &amp; Beverage</td>\n",
       "      <td>2</td>\n",
       "      <td>3253.27</td>\n",
       "      <td>28-03-2021</td>\n",
       "      <td>Metrocity</td>\n",
       "    </tr>\n",
       "    <tr>\n",
       "      <th>99455</th>\n",
       "      <td>I702964</td>\n",
       "      <td>C800631</td>\n",
       "      <td>Technology</td>\n",
       "      <td>4</td>\n",
       "      <td>6626.41</td>\n",
       "      <td>16-03-2021</td>\n",
       "      <td>Istinye Park</td>\n",
       "    </tr>\n",
       "    <tr>\n",
       "      <th>99456</th>\n",
       "      <td>I232867</td>\n",
       "      <td>C273973</td>\n",
       "      <td>Souvenir</td>\n",
       "      <td>3</td>\n",
       "      <td>6224.72</td>\n",
       "      <td>15-10-2022</td>\n",
       "      <td>Mall of Istanbul</td>\n",
       "    </tr>\n",
       "  </tbody>\n",
       "</table>\n",
       "<p>99457 rows × 7 columns</p>\n",
       "</div>"
      ],
      "text/plain": [
       "      invoice_no customer_id         category  quantity    price invoice_date  \\\n",
       "0        I138884     C241288         Clothing         5  8172.24   05-08-2022   \n",
       "1        I317333     C111565            Shoes         3  8868.64   12-12-2021   \n",
       "2        I127801     C266599         Clothing         1  4863.95   09-11-2021   \n",
       "3        I173702     C988172            Shoes         5   711.48   16-05-2021   \n",
       "4        I337046     C189076            Books         4  1110.32   24-10-2021   \n",
       "...          ...         ...              ...       ...      ...          ...   \n",
       "99452    I219422     C441542         Souvenir         5  6692.42   21-09-2022   \n",
       "99453    I325143     C569580  Food & Beverage         2  8397.24   22-09-2021   \n",
       "99454    I824010     C103292  Food & Beverage         2  3253.27   28-03-2021   \n",
       "99455    I702964     C800631       Technology         4  6626.41   16-03-2021   \n",
       "99456    I232867     C273973         Souvenir         3  6224.72   15-10-2022   \n",
       "\n",
       "          shopping_mall  \n",
       "0                Kanyon  \n",
       "1        Forum Istanbul  \n",
       "2             Metrocity  \n",
       "3          Metropol AVM  \n",
       "4                Kanyon  \n",
       "...                 ...  \n",
       "99452            Kanyon  \n",
       "99453    Forum Istanbul  \n",
       "99454         Metrocity  \n",
       "99455      Istinye Park  \n",
       "99456  Mall of Istanbul  \n",
       "\n",
       "[99457 rows x 7 columns]"
      ]
     },
     "execution_count": 20,
     "metadata": {},
     "output_type": "execute_result"
    }
   ],
   "source": [
    "# Importamos Pandas y creamos el DataFrame con el csv\n",
    "import pandas as pd\n",
    "df = pd.read_csv(r\"C:\\Users\\andy_\\Documents\\Bootcamp DA\\Clases Python\\proyecto final\\datos_ventas_centros_comerciales (1).csv\")\n",
    "df"
   ]
  },
  {
   "cell_type": "code",
   "execution_count": 21,
   "metadata": {},
   "outputs": [
    {
     "name": "stdout",
     "output_type": "stream",
     "text": [
      "<class 'pandas.core.frame.DataFrame'>\n",
      "RangeIndex: 99457 entries, 0 to 99456\n",
      "Data columns (total 7 columns):\n",
      " #   Column         Non-Null Count  Dtype  \n",
      "---  ------         --------------  -----  \n",
      " 0   invoice_no     99457 non-null  object \n",
      " 1   customer_id    99457 non-null  object \n",
      " 2   category       99457 non-null  object \n",
      " 3   quantity       99457 non-null  int64  \n",
      " 4   price          99457 non-null  float64\n",
      " 5   invoice_date   99457 non-null  object \n",
      " 6   shopping_mall  99457 non-null  object \n",
      "dtypes: float64(1), int64(1), object(5)\n",
      "memory usage: 5.3+ MB\n"
     ]
    },
    {
     "data": {
      "text/plain": [
       "0"
      ]
     },
     "execution_count": 21,
     "metadata": {},
     "output_type": "execute_result"
    }
   ],
   "source": [
    "# Uso todas las funciones para conocer los datos del DataFrame\n",
    "df.describe()\n",
    "df.value_counts().sort_values(ascending=False)\n",
    "df.info()\n",
    "len(df.index)\n",
    "df.dtypes\n",
    "df.columns\n",
    "df.isnull().sum().sum()"
   ]
  },
  {
   "cell_type": "markdown",
   "metadata": {},
   "source": [
    "# 1. ¿Cuál es el total de ingresos generados por todas las ventas registradas?\n",
    "Guarda el resultado en una variable llamada `total_ingresos`\n",
    "\n"
   ]
  },
  {
   "cell_type": "code",
   "execution_count": 22,
   "metadata": {},
   "outputs": [
    {
     "name": "stdout",
     "output_type": "stream",
     "text": [
      "El total de los ingresos por ventas generadas es: 1490921515.7099998\n"
     ]
    }
   ],
   "source": [
    "# Creamos un programa para poder recoger los datos de multiplicar el total de precios por cantidad vendida\n",
    "# Quiero aclarar que he usado las columnas cantidad y precios porque al no especificarse en ninguna columna, entiendo que el precio es por unidad\n",
    "df[\"total_venta\"] = df[\"price\"] * df[\"quantity\"]\n",
    "\n",
    "# Creamos la variable total_ingresos y sumamos con el metodo .sum()\n",
    "total_ingresos = df[\"total_venta\"].sum()\n",
    "\n",
    "# Printamos el resultado\n",
    "print(\"El total de los ingresos por ventas generadas es:\", total_ingresos)"
   ]
  },
  {
   "cell_type": "markdown",
   "metadata": {},
   "source": [
    "# 2. ¿Cuál es el centro comercial que ha generado más ventas?\n",
    "Guarda el resultado en una variable llamada `centro_comercial_mas_ventas`\n"
   ]
  },
  {
   "cell_type": "code",
   "execution_count": 23,
   "metadata": {},
   "outputs": [
    {
     "name": "stdout",
     "output_type": "stream",
     "text": [
      "El centro comercial con más ventas : Mall of Istanbul\n"
     ]
    }
   ],
   "source": [
    "# Agrupos con la variable ventas_por_centro_comercial con la funcion groupby() con las columnas ventas_por_centro_comercial ylos ingresos con el metodo .sum()\n",
    "ventas_por_centro_comercial = df.groupby(\"shopping_mall\")[\"total_venta\"].sum()\n",
    "\n",
    "# Ahora obtenemos el centro comercial con más ventas y creamos la variable llamada centro_comercial_mas_ventas \n",
    "centro_comercial_con_mas_ventas = ventas_por_centro_comercial.idxmax()\n",
    "total_ventas = ventas_por_centro_comercial.max()\n",
    "\n",
    "# Printamos el resultado\n",
    "print(\"El centro comercial con más ventas :\", centro_comercial_con_mas_ventas)\n"
   ]
  },
  {
   "cell_type": "markdown",
   "metadata": {},
   "source": [
    "# 3. ¿Cuál es la categoría de producto que ha generado mas ventas? \n",
    "Guarda el resultado en una variable llamada `categoria_mas_vendida`\n"
   ]
  },
  {
   "cell_type": "code",
   "execution_count": 24,
   "metadata": {},
   "outputs": [
    {
     "name": "stdout",
     "output_type": "stream",
     "text": [
      "La categoria más vendida es: Clothing\n"
     ]
    }
   ],
   "source": [
    "# Agrupamos con la variable productos_vendidos con la funcion groupby() con las columnas de las categorias y la cantidad de productoss vendidos con el metodo .sum()\n",
    "productos_vendidos = df.groupby(\"category\")[\"quantity\"].sum()\n",
    "\n",
    "# Ahora obtenemos la categoria más vendida y creamos la variable llamada categoria_mas_vendida \n",
    "categoria_mas_vendia = productos_vendidos.idxmax()\n",
    "total_productos = productos_vendidos.max()\n",
    "\n",
    "# Printamos el resultado\n",
    "print(\"La categoria más vendida es:\", categoria_mas_vendia)"
   ]
  },
  {
   "cell_type": "markdown",
   "metadata": {},
   "source": [
    "# 4. ¿Cuál es el producto más caro vendido?\n",
    "Guarda el resultado en una variable llamada `categoria_producto_mas_caro`\n",
    "\n"
   ]
  },
  {
   "cell_type": "code",
   "execution_count": 25,
   "metadata": {},
   "outputs": [
    {
     "name": "stdout",
     "output_type": "stream",
     "text": [
      "El producto más caro es: invoice_no          I321299\n",
      "customer_id         C103251\n",
      "category               Toys\n",
      "quantity                  1\n",
      "price               9999.85\n",
      "invoice_date     11-02-2023\n",
      "shopping_mall        Kanyon\n",
      "total_venta         9999.85\n",
      "Name: 85137, dtype: object\n"
     ]
    }
   ],
   "source": [
    "# Creamos la variable categoria_producto_más_caro y le pasamos la funcion .loc()\n",
    "categoria_producto_mas_caro = df.loc[df['price'].idxmax()]\n",
    "\n",
    "# Printamos el resultado\n",
    "print(\"El producto más caro es:\", categoria_producto_mas_caro)"
   ]
  },
  {
   "cell_type": "markdown",
   "metadata": {},
   "source": [
    "# 5. ¿Cuál es la factura más antigua registrada en el dataset?\n",
    "Guarda el resultado en una variable llamada `factura_mas_antigua`\n"
   ]
  },
  {
   "cell_type": "code",
   "execution_count": 26,
   "metadata": {},
   "outputs": [
    {
     "data": {
      "text/html": [
       "<div>\n",
       "<style scoped>\n",
       "    .dataframe tbody tr th:only-of-type {\n",
       "        vertical-align: middle;\n",
       "    }\n",
       "\n",
       "    .dataframe tbody tr th {\n",
       "        vertical-align: top;\n",
       "    }\n",
       "\n",
       "    .dataframe thead th {\n",
       "        text-align: right;\n",
       "    }\n",
       "</style>\n",
       "<table border=\"1\" class=\"dataframe\">\n",
       "  <thead>\n",
       "    <tr style=\"text-align: right;\">\n",
       "      <th></th>\n",
       "      <th>invoice_no</th>\n",
       "      <th>customer_id</th>\n",
       "      <th>category</th>\n",
       "      <th>quantity</th>\n",
       "      <th>price</th>\n",
       "      <th>invoice_date</th>\n",
       "      <th>shopping_mall</th>\n",
       "      <th>total_venta</th>\n",
       "    </tr>\n",
       "  </thead>\n",
       "  <tbody>\n",
       "    <tr>\n",
       "      <th>0</th>\n",
       "      <td>I138884</td>\n",
       "      <td>C241288</td>\n",
       "      <td>Clothing</td>\n",
       "      <td>5</td>\n",
       "      <td>8172.24</td>\n",
       "      <td>4296</td>\n",
       "      <td>Kanyon</td>\n",
       "      <td>40861.20</td>\n",
       "    </tr>\n",
       "    <tr>\n",
       "      <th>1</th>\n",
       "      <td>I317333</td>\n",
       "      <td>C111565</td>\n",
       "      <td>Shoes</td>\n",
       "      <td>3</td>\n",
       "      <td>8868.64</td>\n",
       "      <td>4296</td>\n",
       "      <td>Forum Istanbul</td>\n",
       "      <td>26605.92</td>\n",
       "    </tr>\n",
       "    <tr>\n",
       "      <th>2</th>\n",
       "      <td>I127801</td>\n",
       "      <td>C266599</td>\n",
       "      <td>Clothing</td>\n",
       "      <td>1</td>\n",
       "      <td>4863.95</td>\n",
       "      <td>4296</td>\n",
       "      <td>Metrocity</td>\n",
       "      <td>4863.95</td>\n",
       "    </tr>\n",
       "    <tr>\n",
       "      <th>3</th>\n",
       "      <td>I173702</td>\n",
       "      <td>C988172</td>\n",
       "      <td>Shoes</td>\n",
       "      <td>5</td>\n",
       "      <td>711.48</td>\n",
       "      <td>4296</td>\n",
       "      <td>Metropol AVM</td>\n",
       "      <td>3557.40</td>\n",
       "    </tr>\n",
       "    <tr>\n",
       "      <th>4</th>\n",
       "      <td>I337046</td>\n",
       "      <td>C189076</td>\n",
       "      <td>Books</td>\n",
       "      <td>4</td>\n",
       "      <td>1110.32</td>\n",
       "      <td>4296</td>\n",
       "      <td>Kanyon</td>\n",
       "      <td>4441.28</td>\n",
       "    </tr>\n",
       "    <tr>\n",
       "      <th>...</th>\n",
       "      <td>...</td>\n",
       "      <td>...</td>\n",
       "      <td>...</td>\n",
       "      <td>...</td>\n",
       "      <td>...</td>\n",
       "      <td>...</td>\n",
       "      <td>...</td>\n",
       "      <td>...</td>\n",
       "    </tr>\n",
       "    <tr>\n",
       "      <th>99452</th>\n",
       "      <td>I219422</td>\n",
       "      <td>C441542</td>\n",
       "      <td>Souvenir</td>\n",
       "      <td>5</td>\n",
       "      <td>6692.42</td>\n",
       "      <td>4296</td>\n",
       "      <td>Kanyon</td>\n",
       "      <td>33462.10</td>\n",
       "    </tr>\n",
       "    <tr>\n",
       "      <th>99453</th>\n",
       "      <td>I325143</td>\n",
       "      <td>C569580</td>\n",
       "      <td>Food &amp; Beverage</td>\n",
       "      <td>2</td>\n",
       "      <td>8397.24</td>\n",
       "      <td>4296</td>\n",
       "      <td>Forum Istanbul</td>\n",
       "      <td>16794.48</td>\n",
       "    </tr>\n",
       "    <tr>\n",
       "      <th>99454</th>\n",
       "      <td>I824010</td>\n",
       "      <td>C103292</td>\n",
       "      <td>Food &amp; Beverage</td>\n",
       "      <td>2</td>\n",
       "      <td>3253.27</td>\n",
       "      <td>4296</td>\n",
       "      <td>Metrocity</td>\n",
       "      <td>6506.54</td>\n",
       "    </tr>\n",
       "    <tr>\n",
       "      <th>99455</th>\n",
       "      <td>I702964</td>\n",
       "      <td>C800631</td>\n",
       "      <td>Technology</td>\n",
       "      <td>4</td>\n",
       "      <td>6626.41</td>\n",
       "      <td>4296</td>\n",
       "      <td>Istinye Park</td>\n",
       "      <td>26505.64</td>\n",
       "    </tr>\n",
       "    <tr>\n",
       "      <th>99456</th>\n",
       "      <td>I232867</td>\n",
       "      <td>C273973</td>\n",
       "      <td>Souvenir</td>\n",
       "      <td>3</td>\n",
       "      <td>6224.72</td>\n",
       "      <td>4296</td>\n",
       "      <td>Mall of Istanbul</td>\n",
       "      <td>18674.16</td>\n",
       "    </tr>\n",
       "  </tbody>\n",
       "</table>\n",
       "<p>99457 rows × 8 columns</p>\n",
       "</div>"
      ],
      "text/plain": [
       "      invoice_no customer_id         category  quantity    price  \\\n",
       "0        I138884     C241288         Clothing         5  8172.24   \n",
       "1        I317333     C111565            Shoes         3  8868.64   \n",
       "2        I127801     C266599         Clothing         1  4863.95   \n",
       "3        I173702     C988172            Shoes         5   711.48   \n",
       "4        I337046     C189076            Books         4  1110.32   \n",
       "...          ...         ...              ...       ...      ...   \n",
       "99452    I219422     C441542         Souvenir         5  6692.42   \n",
       "99453    I325143     C569580  Food & Beverage         2  8397.24   \n",
       "99454    I824010     C103292  Food & Beverage         2  3253.27   \n",
       "99455    I702964     C800631       Technology         4  6626.41   \n",
       "99456    I232867     C273973         Souvenir         3  6224.72   \n",
       "\n",
       "       invoice_date     shopping_mall  total_venta  \n",
       "0              4296            Kanyon     40861.20  \n",
       "1              4296    Forum Istanbul     26605.92  \n",
       "2              4296         Metrocity      4863.95  \n",
       "3              4296      Metropol AVM      3557.40  \n",
       "4              4296            Kanyon      4441.28  \n",
       "...             ...               ...          ...  \n",
       "99452          4296            Kanyon     33462.10  \n",
       "99453          4296    Forum Istanbul     16794.48  \n",
       "99454          4296         Metrocity      6506.54  \n",
       "99455          4296      Istinye Park     26505.64  \n",
       "99456          4296  Mall of Istanbul     18674.16  \n",
       "\n",
       "[99457 rows x 8 columns]"
      ]
     },
     "execution_count": 26,
     "metadata": {},
     "output_type": "execute_result"
    }
   ],
   "source": [
    "# Usamos el metodo .idxmin() sobre la columna invoice_date para saber la fecha más antigüa\n",
    "df[\"invoice_date\"] = df[\"invoice_date\"].idxmin()\n",
    "df\n"
   ]
  },
  {
   "cell_type": "code",
   "execution_count": 27,
   "metadata": {},
   "outputs": [
    {
     "name": "stdout",
     "output_type": "stream",
     "text": [
      "invoice_no\n",
      "I100008   1970-01-01 00:00:00.000004296\n",
      "I100014   1970-01-01 00:00:00.000004296\n",
      "I100015   1970-01-01 00:00:00.000004296\n",
      "I100024   1970-01-01 00:00:00.000004296\n",
      "I100027   1970-01-01 00:00:00.000004296\n",
      "                       ...             \n",
      "I999956   1970-01-01 00:00:00.000004296\n",
      "I999959   1970-01-01 00:00:00.000004296\n",
      "I999972   1970-01-01 00:00:00.000004296\n",
      "I999973   1970-01-01 00:00:00.000004296\n",
      "I999994   1970-01-01 00:00:00.000004296\n",
      "Name: invoice_date, Length: 99457, dtype: datetime64[ns]\n"
     ]
    }
   ],
   "source": [
    "# Filtramos las fechas y nos  aseguramos que aparezca en el orden \"año-mes-dia\" como nos pidio Leandro en la sesion 8, proyecto real de las películas y usamos la funcion pd.to_datetime\n",
    "df[\"invoice_date\"] = pd.to_datetime(df[\"invoice_date\"])\n",
    "\n",
    "# Juntamos las columnas de facturas y fechas de las factura para que salgan las más antiguas\n",
    "factura_mas_antigua = df.groupby(\"invoice_no\")[\"invoice_date\"].min()\n",
    "\n",
    "#Printamos el resultado\n",
    "print(factura_mas_antigua)\n"
   ]
  },
  {
   "cell_type": "markdown",
   "metadata": {},
   "source": [
    "# 6. ¿Cuál es la cantidad promedio de productos vendidos por transacción?\n",
    "Guarda el resultado en una variable llamada `cantidad_promedio_por_transaccion`\n",
    "\n"
   ]
  },
  {
   "cell_type": "code",
   "execution_count": 28,
   "metadata": {},
   "outputs": [
    {
     "name": "stdout",
     "output_type": "stream",
     "text": [
      "El promedio de los productos vendidos por transacion es: 298712.0\n"
     ]
    }
   ],
   "source": [
    "# Creamos la variables productos por transaccion con los productos y la cantidad \n",
    "productos_por_transaccion = df.groupby(\"invoice_no\")[\"quantity\"].mean().sum()\n",
    "\n",
    "# Calculamos el promedio de los productos vendidos \n",
    "cantidad_promedio_por_transaccion = productos_por_transaccion.mean()\n",
    "\n",
    "# Printamos el resultado\n",
    "print(\"El promedio de los productos vendidos por transacion es:\", cantidad_promedio_por_transaccion)"
   ]
  },
  {
   "cell_type": "markdown",
   "metadata": {},
   "source": [
    "# 7. ¿Cuál es el día con más ventas registradas?\n",
    "Guarda el resultado en una variable llamada `dia_con_mas_ventas`\n"
   ]
  },
  {
   "cell_type": "code",
   "execution_count": 29,
   "metadata": {},
   "outputs": [
    {
     "name": "stdout",
     "output_type": "stream",
     "text": [
      "invoice_date    1970-01-01 00:00:00.000004296\n",
      "total_venta                     1490921515.71\n",
      "Name: 0, dtype: object\n"
     ]
    }
   ],
   "source": [
    "# Aseguramos que \"invoice_date\" es un datetime\n",
    "df[\"invoice_date\"] = pd.to_datetime(df[\"invoice_date\"])\n",
    "\n",
    "3 # Agrupamos por fechas de factura y por ingresos\n",
    "ventas_diarias = df.groupby(\"invoice_date\")[\"total_venta\"].sum().reset_index()\n",
    "\n",
    "# Encontramos el indice con el dia con más ingresos(ventas)\n",
    "indice_dia_max_ventas = ventas_diarias[\"total_venta\"].idxmax()\n",
    "\n",
    "# Filtramos la fila con el dia con más ventas\n",
    "dias_con_mas_ventas = ventas_diarias.loc[indice_dia_max_ventas]\n",
    "\n",
    "# Printamos resultado\n",
    "print(dias_con_mas_ventas)"
   ]
  },
  {
   "cell_type": "markdown",
   "metadata": {},
   "source": [
    "# 8. ¿Cuál es el cliente que más ha gastado en total?\n",
    "Guarda el resultado en una variable llamada `cliente_que_mas_gasto`\n"
   ]
  },
  {
   "cell_type": "code",
   "execution_count": 30,
   "metadata": {},
   "outputs": [
    {
     "name": "stdout",
     "output_type": "stream",
     "text": [
      "El cliente que más ha gastado es: C307063\n"
     ]
    }
   ],
   "source": [
    "# Agrupamos los clientes y sumamos los ingresos de cada uno\n",
    "gastos_por_cliente = df.groupby(\"customer_id\")[\"total_venta\"].sum()\n",
    "\n",
    "# Ahora vamos a buscar el cliente que más ha gastado \n",
    "cliente_que_mas_gasto = gastos_por_cliente.idxmax()\n",
    "\n",
    "# Printamos resultado\n",
    "print(\"El cliente que más ha gastado es:\", cliente_que_mas_gasto)"
   ]
  },
  {
   "cell_type": "markdown",
   "metadata": {},
   "source": [
    "# 9. ¿Cuál es la factura con el precio total más alto?\n",
    "Guarda el resultado en una variable llamada `factura_max_valor`\n"
   ]
  },
  {
   "cell_type": "code",
   "execution_count": 31,
   "metadata": {},
   "outputs": [
    {
     "name": "stdout",
     "output_type": "stream",
     "text": [
      "La factura con el precio total más alto es: I311640\n"
     ]
    }
   ],
   "source": [
    "# Aqui he usado la formula que Leandro nos enseños en el proyecto de las peliculas usando el indice de facturas aplicando a la columna del total_venta la funcion idxmax() para saber el precio más alto\n",
    "factura_max_valor = df.set_index(\"invoice_no\")[\"total_venta\"].idxmax()\n",
    "\n",
    "# Printamos resultado\n",
    "print(\"La factura con el precio total más alto es:\", factura_max_valor)"
   ]
  },
  {
   "cell_type": "markdown",
   "metadata": {},
   "source": [
    "# 10. ¿Cuál es la distribución porcentual de ventas por categoría de producto?\n",
    "Guarda el resultado en una variable llamada `distribucion_porcentual_ventas_por_categoria`. El tipo de `distribucion_porcentual_ventas_por_categoria` debe ser `pandas.core.series.Series` donde las etiquetas deben ser las categorias y los valores deben ser la distribucion porcentual de las ventas por categoría\n"
   ]
  },
  {
   "cell_type": "code",
   "execution_count": 32,
   "metadata": {},
   "outputs": [
    {
     "name": "stdout",
     "output_type": "stream",
     "text": [
      "category\n",
      "Books               4.991948\n",
      "Clothing           34.502427\n",
      "Cosmetics          15.222939\n",
      "Food & Beverage    14.915931\n",
      "Shoes              10.170227\n",
      "Souvenir            4.974746\n",
      "Technology          5.061530\n",
      "Toys               10.160253\n",
      "Name: total_venta, dtype: float64\n"
     ]
    }
   ],
   "source": [
    "# Agrupamos la columna categoria y los ingresos \n",
    "ventas_por_categoria = df.groupby(\"category\")[\"total_venta\"].sum()\n",
    "\n",
    "# Creamos la variables total_ventas y calculamos el total de las ventas \n",
    "total_ventas = ventas_por_categoria.sum()\n",
    "\n",
    "# Calculamos la distribución porcentual usando las variables creadas anteriormente \n",
    "distribucion_porcentual_ventas_por_categoria = (ventas_por_categoria / total_ventas) * 100\n",
    "\n",
    "# Printamos resultado\n",
    "print(distribucion_porcentual_ventas_por_categoria)"
   ]
  },
  {
   "cell_type": "markdown",
   "metadata": {},
   "source": [
    "# 11. ¿Cuál es el día de la semana con más ventas registradas en cada centro comercial?\n",
    "Guarda el resultado en una variable llamada `dia_semana_mas_ventas_por_centro`. El tipo de `dia_semana_mas_ventas_por_centro` debe ser `pandas.core.series.Series` donde las etiquetas deben ser el nombre de los centros comerciales y los valores deben ser el nombre del dia de la semana con mas ventas."
   ]
  },
  {
   "cell_type": "code",
   "execution_count": 33,
   "metadata": {},
   "outputs": [
    {
     "name": "stdout",
     "output_type": "stream",
     "text": [
      "       shopping_mall dia_de_la_semana   total_venta\n",
      "0        Cevahir AVM         Thursday  7.369621e+07\n",
      "1  Emaar Square Mall         Thursday  7.311491e+07\n",
      "2     Forum Istanbul         Thursday  7.444548e+07\n",
      "3       Istinye Park         Thursday  1.478885e+08\n",
      "4             Kanyon         Thursday  2.966126e+08\n",
      "5   Mall of Istanbul         Thursday  2.987439e+08\n",
      "6          Metrocity         Thursday  2.240598e+08\n",
      "7       Metropol AVM         Thursday  1.518731e+08\n",
      "8     Viaport Outlet         Thursday  7.343815e+07\n",
      "9       Zorlu Center         Thursday  7.704880e+07\n"
     ]
    }
   ],
   "source": [
    "# Convertimos la columna a tipo datetime\n",
    "df[\"invoice_date\"] = pd.to_datetime(df[\"invoice_date\"])\n",
    "\n",
    "# Luego extraemos el día de la semana\n",
    "df[\"dia_de_la_semana\"] = df[\"invoice_date\"].dt.day_name()\n",
    "\n",
    "# Agrupamos por centro comercial, dia de la semana y sumar las ventas(total_venta)\n",
    "ventas_por_dia_y_centro = df.groupby([\"shopping_mall\", \"dia_de_la_semana\"])[\"total_venta\"].sum().reset_index()\n",
    "\n",
    "# Encontramos el dia con más ventas por cada centro comercial\n",
    "dia_max_ventas = ventas_por_dia_y_centro.groupby(\"shopping_mall\")[\"total_venta\"].idxmax()\n",
    "\n",
    "# Filtramos las filas con los días con más ventas\n",
    "dia_semana_mas_ventas_por_centro = ventas_por_dia_y_centro.loc[dia_max_ventas]\n",
    "\n",
    "# Printamos resultado\n",
    "print(dia_semana_mas_ventas_por_centro)\n"
   ]
  },
  {
   "cell_type": "markdown",
   "metadata": {},
   "source": [
    "## Cuantas facturas fraudulentas hay por centro comercial? \n",
    "\n",
    "La respuesta ha de ser un DataFrame con 2 columnas: Centro Comercial y Numero de facturas fraudulentas"
   ]
  },
  {
   "cell_type": "code",
   "execution_count": 34,
   "metadata": {},
   "outputs": [],
   "source": [
    "# Cargo el DataFrame con las facturas fraudulentas\n",
    "facturas_fraudulentas = pd.read_csv(r\"C:\\Users\\andy_\\Documents\\Bootcamp DA\\Clases Python\\proyecto final\\fraud_invoices.csv\")\n",
    "\n",
    "# Cargo el DataFrame con las facturas originiales \n",
    "df = pd.read_csv(r\"C:\\Users\\andy_\\Documents\\Bootcamp DA\\Clases Python\\proyecto final\\datos_ventas_centros_comerciales (1).csv\")"
   ]
  },
  {
   "cell_type": "code",
   "execution_count": 35,
   "metadata": {},
   "outputs": [],
   "source": [
    "# Introduzco la columna de centros comerciales en el DataFrame de las facturas fraudulentas\n",
    "facturas_fraudulentas[\"shopping_mall\"] = df[\"shopping_mall\"]"
   ]
  },
  {
   "cell_type": "code",
   "execution_count": 36,
   "metadata": {},
   "outputs": [
    {
     "name": "stdout",
     "output_type": "stream",
     "text": [
      "    Centro Comercial  Numero de facturas fraudulentas\n",
      "0        Cevahir AVM                               23\n",
      "1  Emaar Square Mall                               24\n",
      "2     Forum Istanbul                               17\n",
      "3       Istinye Park                               29\n",
      "4             Kanyon                               90\n",
      "5   Mall of Istanbul                               57\n",
      "6          Metrocity                               50\n",
      "7       Metropol AVM                               42\n",
      "8     Viaport Outlet                               18\n",
      "9       Zorlu Center                               19\n"
     ]
    }
   ],
   "source": [
    "# Hago el merge entre los DataFrames de facturas fraudulentas y el DataFrame completo de facturas\n",
    "facturas_fraudulentas_detalladas = pd.merge(facturas_fraudulentas,\n",
    "                                  df, \n",
    "                                  on=\"invoice_no\", \n",
    "                                  how=\"inner\")  # Sólo combinamos las facturas fraudulentas\n",
    "\n",
    "# Agrupo por 'shopping_mall' y cuento el número de facturas fraudulentas en cada centro comercial\n",
    "fraudulentas_por_centro_comercial = facturas_fraudulentas.groupby(\"shopping_mall\")[\"invoice_no\"].count().reset_index()\n",
    "\n",
    "# Renombro las columnas para que el DataFrame sea el que buscamos\n",
    "fraudulentas_por_centro_comercial.columns = [\"Centro Comercial\", \"Numero de facturas fraudulentas\"]\n",
    "\n",
    "print(fraudulentas_por_centro_comercial)"
   ]
  },
  {
   "cell_type": "markdown",
   "metadata": {},
   "source": [
    "## Cual es la perdida asumida por cada centro comercial? (Perdida entendida como el dinero que los centros comerciales no van a ingresar por esas facturas)\n",
    "\n",
    "La respuesta a este pregunta debe se run DataFrame con 2 columnas: Centro Comercial y Perdida total"
   ]
  },
  {
   "cell_type": "code",
   "execution_count": 37,
   "metadata": {},
   "outputs": [],
   "source": [
    "# Introduzco las columnas de cantidad y precio en el DataFrame de facturas_fraudulentas\n",
    "facturas_fraudulentas[\"quantity\"] = df[\"quantity\"]\n",
    "facturas_fraudulentas[\"price\"] = df[\"price\"]"
   ]
  },
  {
   "cell_type": "code",
   "execution_count": 38,
   "metadata": {},
   "outputs": [
    {
     "name": "stdout",
     "output_type": "stream",
     "text": [
      "    Centro_Comercial  Perdida_total\n",
      "0        Cevahir AVM      292699.17\n",
      "1  Emaar Square Mall      343999.62\n",
      "2     Forum Istanbul      314840.37\n",
      "3       Istinye Park      377562.82\n",
      "4             Kanyon     1370733.24\n",
      "5   Mall of Istanbul      901609.55\n",
      "6          Metrocity      879069.83\n",
      "7       Metropol AVM      525074.35\n",
      "8     Viaport Outlet      281878.23\n",
      "9       Zorlu Center      248884.08\n"
     ]
    }
   ],
   "source": [
    "# Como antes filtramos las facturas fraudulentas con pd.merge()\n",
    "facturas_fraudulentas_detalladas = pd.merge(facturas_fraudulentas,\n",
    "                                  df, \n",
    "                                  on=\"invoice_no\", \n",
    "                                  how=\"inner\")  \n",
    "\n",
    "# Calculo la cantidad que no se va a ingresar / Para ellos calculamos el total con las columnas de cantidad * precio de las facturas_fraudulentas\n",
    "facturas_fraudulentas[\"Perdida total\"] = facturas_fraudulentas[\"quantity\"] * facturas_fraudulentas[\"price\"]\n",
    "\n",
    "# Agrupo por centro comercial y calculo la pérdida total por cada centro comercial\n",
    "perdidas_por__centro_comercial = facturas_fraudulentas.groupby(\"shopping_mall\")[\"Perdida total\"].sum().reset_index()\n",
    "\n",
    "# Renombro las columnas para que el DataFrame salga como buscamos\n",
    "perdidas_por__centro_comercial.columns = [\"Centro_Comercial\", \"Perdida_total\"]\n",
    "\n",
    "# Printamos resultado\n",
    "print(perdidas_por__centro_comercial)"
   ]
  }
 ],
 "metadata": {
  "kernelspec": {
   "display_name": "base",
   "language": "python",
   "name": "python3"
  },
  "language_info": {
   "codemirror_mode": {
    "name": "ipython",
    "version": 3
   },
   "file_extension": ".py",
   "mimetype": "text/x-python",
   "name": "python",
   "nbconvert_exporter": "python",
   "pygments_lexer": "ipython3",
   "version": "3.12.7"
  }
 },
 "nbformat": 4,
 "nbformat_minor": 2
}
